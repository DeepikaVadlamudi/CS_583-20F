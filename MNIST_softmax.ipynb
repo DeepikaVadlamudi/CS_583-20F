{
  "nbformat": 4,
  "nbformat_minor": 0,
  "metadata": {
    "colab": {
      "name": "Untitled1.ipynb",
      "provenance": []
    },
    "kernelspec": {
      "name": "python3",
      "display_name": "Python 3"
    }
  },
  "cells": [
    {
      "cell_type": "code",
      "metadata": {
        "id": "iAEYrNfLdTNS",
        "colab_type": "code",
        "colab": {
          "base_uri": "https://localhost:8080/",
          "height": 84
        },
        "outputId": "bd590cd1-572f-49cc-d2a9-a0d67b624e0b"
      },
      "source": [
        "from keras.datasets import mnist\n",
        "(x_train, y_train),(x_test,y_test) = mnist.load_data()\n",
        "\n",
        "print('Shape of x_train:{}'.format(x_train.shape))\n",
        "print('Shape of y_train:{}'.format(y_train.shape))\n",
        "print('Shape of x_test:{}'.format(x_test.shape))\n",
        "print('Shape of y_test:{}'.format(y_test.shape))"
      ],
      "execution_count": 1,
      "outputs": [
        {
          "output_type": "stream",
          "text": [
            "Shape of x_train:(60000, 28, 28)\n",
            "Shape of y_train:(60000,)\n",
            "Shape of x_test:(10000, 28, 28)\n",
            "Shape of y_test:(10000,)\n"
          ],
          "name": "stdout"
        }
      ]
    },
    {
      "cell_type": "code",
      "metadata": {
        "id": "r-CR8G5zeEIG",
        "colab_type": "code",
        "colab": {
          "base_uri": "https://localhost:8080/",
          "height": 273
        },
        "outputId": "b499d2d7-f61c-4e09-8a3c-4ab3fc374e96"
      },
      "source": [
        "import matplotlib.pyplot as plt\n",
        "import random \n",
        "\n",
        "fig, axis = plt.subplots(1,5, figsize=(20,20))\n",
        "\n",
        "for i in range(5):\n",
        "  ind = random.randint(0,x_train.shape[0])\n",
        "  axis[i].imshow(x_train[ind,:,:], cmap='gray')\n",
        "  axis[i].set_title(y_train[ind])\n",
        "\n",
        "\n",
        "plt.show\n",
        "\n",
        "\n"
      ],
      "execution_count": 2,
      "outputs": [
        {
          "output_type": "execute_result",
          "data": {
            "text/plain": [
              "<function matplotlib.pyplot.show>"
            ]
          },
          "metadata": {
            "tags": []
          },
          "execution_count": 2
        },
        {
          "output_type": "display_data",
          "data": {
            "image/png": "[encoded data removed]",
            "text/plain": [
              "<Figure size 1440x1440 with 5 Axes>"
            ]
          },
          "metadata": {
            "tags": [],
            "needs_background": "light"
          }
        }
      ]
    },
    {
      "cell_type": "code",
      "metadata": {
        "id": "g149-GUpdSQS",
        "colab_type": "code",
        "colab": {
          "base_uri": "https://localhost:8080/",
          "height": 50
        },
        "outputId": "4aca3a50-e7a5-459a-f844-829eca89bcbb"
      },
      "source": [
        "x_train_vec = x_train.reshape(x_train.shape[0],-1)\n",
        "x_test_vec = x_test.reshape(x_test.shape[0],-1)\n",
        "\n",
        "print('Shape of x_train_vec:{}'.format(x_train_vec.shape))\n",
        "print('Shape of x_test_vec:{}'.format(x_test_vec.shape))\n",
        "\n"
      ],
      "execution_count": 3,
      "outputs": [
        {
          "output_type": "stream",
          "text": [
            "Shape of x_train_vec:(60000, 784)\n",
            "Shape of x_test_vec:(10000, 784)\n"
          ],
          "name": "stdout"
        }
      ]
    },
    {
      "cell_type": "code",
      "metadata": {
        "id": "KoD4HLVbft-P",
        "colab_type": "code",
        "colab": {
          "base_uri": "https://localhost:8080/",
          "height": 34
        },
        "outputId": "a6300f9b-7c3b-45be-971b-b1698be89460"
      },
      "source": [
        "import numpy as np \n",
        "\n",
        "def to_one_hot(labels, dimension=10):\n",
        "  result = np.zeros((len(labels), dimension))\n",
        "  for i, lab in enumerate(labels):\n",
        "    result[i,lab]=1\n",
        "  return result\n",
        "\n",
        "y_train_vec = to_one_hot(y_train)\n",
        "y_test_vec = to_one_hot(y_test)\n",
        "\n",
        "print('Shape of one hot encoding : {}'.format(y_train_vec.shape))\n",
        "\n"
      ],
      "execution_count": 4,
      "outputs": [
        {
          "output_type": "stream",
          "text": [
            "Shape of one hot encoding : (60000, 10)\n"
          ],
          "name": "stdout"
        }
      ]
    },
    {
      "cell_type": "code",
      "metadata": {
        "id": "CXLozf1pj4qv",
        "colab_type": "code",
        "colab": {
          "base_uri": "https://localhost:8080/",
          "height": 84
        },
        "outputId": "e81af80c-8683-4600-ddbc-f8389777b0ea"
      },
      "source": [
        "rand_indices = np.random.permutation(x_train_vec.shape[0])\n",
        "train_indices = rand_indices[:50000]\n",
        "valid_indices = rand_indices[50000:]\n",
        "\n",
        "x_valid_vec = x_train_vec[valid_indices, :]\n",
        "y_valid_vec = y_train_vec[valid_indices, :]\n",
        "\n",
        "x_train_vec = x_train_vec[train_indices, :]\n",
        "y_train_vec = y_train_vec[train_indices, :]\n",
        "\n",
        "print('Shape of x_valid_vec : {}'.format(x_valid_vec.shape))\n",
        "print('Shape of y_valid_vec : {}'.format(y_valid_vec.shape))\n",
        "print('Shape of x_train_vec : {}'.format(x_train_vec.shape))\n",
        "print('Shape of y_train_vec : {}'.format(y_train_vec.shape))\n",
        "\n"
      ],
      "execution_count": 5,
      "outputs": [
        {
          "output_type": "stream",
          "text": [
            "Shape of x_valid_vec : (10000, 784)\n",
            "Shape of y_valid_vec : (10000, 10)\n",
            "Shape of x_train_vec : (50000, 784)\n",
            "Shape of y_train_vec : (50000, 10)\n"
          ],
          "name": "stdout"
        }
      ]
    },
    {
      "cell_type": "code",
      "metadata": {
        "id": "Gz6gNYz1mMmc",
        "colab_type": "code",
        "colab": {
          "base_uri": "https://localhost:8080/",
          "height": 185
        },
        "outputId": "fe0eca92-b8c8-409e-f3e3-def3757f4fef"
      },
      "source": [
        "from keras import models\n",
        "from keras import layers \n",
        "\n",
        "model = models.Sequential()\n",
        "model.add(layers.Dense(10,activation='softmax',input_shape=(x_train_vec.shape[1], )))\n",
        "model.summary()\n"
      ],
      "execution_count": 6,
      "outputs": [
        {
          "output_type": "stream",
          "text": [
            "Model: \"sequential\"\n",
            "_________________________________________________________________\n",
            "Layer (type)                 Output Shape              Param #   \n",
            "=================================================================\n",
            "dense (Dense)                (None, 10)                7850      \n",
            "=================================================================\n",
            "Total params: 7,850\n",
            "Trainable params: 7,850\n",
            "Non-trainable params: 0\n",
            "_________________________________________________________________\n"
          ],
          "name": "stdout"
        }
      ]
    },
    {
      "cell_type": "code",
      "metadata": {
        "id": "ZppOFqE6nJNN",
        "colab_type": "code",
        "colab": {}
      },
      "source": [
        "from keras import optimizers\n",
        "\n",
        "model.compile(optimizers.RMSprop(lr=0.0001), loss='categorical_crossentropy', metrics=['accuracy'])"
      ],
      "execution_count": 8,
      "outputs": []
    },
    {
      "cell_type": "code",
      "metadata": {
        "id": "-jIc_3G_o2Fl",
        "colab_type": "code",
        "colab": {
          "base_uri": "https://localhost:8080/",
          "height": 1000
        },
        "outputId": "c06de0fa-cec8-4b86-d6d4-49f07f4893af"
      },
      "source": [
        "history = model.fit(x_train_vec, y_train_vec, batch_size=128, epochs=50, validation_data=(x_valid_vec, y_valid_vec))"
      ],
      "execution_count": 9,
      "outputs": [
        {
          "output_type": "stream",
          "text": [
            "Epoch 1/50\n",
            "391/391 [==============================] - 1s 2ms/step - loss: 45.0553 - accuracy: 0.4785 - val_loss: 15.5778 - val_accuracy: 0.7273\n",
            "Epoch 2/50\n",
            "391/391 [==============================] - 1s 2ms/step - loss: 11.4066 - accuracy: 0.7825 - val_loss: 9.6121 - val_accuracy: 0.8200\n",
            "Epoch 3/50\n",
            "391/391 [==============================] - 1s 2ms/step - loss: 8.1064 - accuracy: 0.8321 - val_loss: 7.9194 - val_accuracy: 0.8394\n",
            "Epoch 4/50\n",
            "391/391 [==============================] - 1s 2ms/step - loss: 6.7666 - accuracy: 0.8505 - val_loss: 6.9543 - val_accuracy: 0.8537\n",
            "Epoch 5/50\n",
            "391/391 [==============================] - 1s 2ms/step - loss: 5.9463 - accuracy: 0.8604 - val_loss: 6.3258 - val_accuracy: 0.8636\n",
            "Epoch 6/50\n",
            "391/391 [==============================] - 1s 2ms/step - loss: 5.3714 - accuracy: 0.8673 - val_loss: 5.8934 - val_accuracy: 0.8656\n",
            "Epoch 7/50\n",
            "391/391 [==============================] - 1s 2ms/step - loss: 4.9170 - accuracy: 0.8726 - val_loss: 5.5125 - val_accuracy: 0.8715\n",
            "Epoch 8/50\n",
            "391/391 [==============================] - 1s 2ms/step - loss: 4.5659 - accuracy: 0.8760 - val_loss: 5.2346 - val_accuracy: 0.8738\n",
            "Epoch 9/50\n",
            "391/391 [==============================] - 1s 2ms/step - loss: 4.2901 - accuracy: 0.8785 - val_loss: 5.0039 - val_accuracy: 0.8754\n",
            "Epoch 10/50\n",
            "391/391 [==============================] - 1s 2ms/step - loss: 4.0386 - accuracy: 0.8814 - val_loss: 4.8136 - val_accuracy: 0.8721\n",
            "Epoch 11/50\n",
            "391/391 [==============================] - 1s 2ms/step - loss: 3.8214 - accuracy: 0.8833 - val_loss: 4.6304 - val_accuracy: 0.8752\n",
            "Epoch 12/50\n",
            "391/391 [==============================] - 1s 2ms/step - loss: 3.6439 - accuracy: 0.8851 - val_loss: 4.5103 - val_accuracy: 0.8730\n",
            "Epoch 13/50\n",
            "391/391 [==============================] - 1s 2ms/step - loss: 3.4789 - accuracy: 0.8856 - val_loss: 4.3232 - val_accuracy: 0.8759\n",
            "Epoch 14/50\n",
            "391/391 [==============================] - 1s 2ms/step - loss: 3.3232 - accuracy: 0.8888 - val_loss: 4.1485 - val_accuracy: 0.8744\n",
            "Epoch 15/50\n",
            "391/391 [==============================] - 1s 2ms/step - loss: 3.1975 - accuracy: 0.8876 - val_loss: 3.9989 - val_accuracy: 0.8765\n",
            "Epoch 16/50\n",
            "391/391 [==============================] - 1s 2ms/step - loss: 3.0707 - accuracy: 0.8895 - val_loss: 3.9111 - val_accuracy: 0.8775\n",
            "Epoch 17/50\n",
            "391/391 [==============================] - 1s 2ms/step - loss: 2.9593 - accuracy: 0.8903 - val_loss: 3.8019 - val_accuracy: 0.8788\n",
            "Epoch 18/50\n",
            "391/391 [==============================] - 1s 2ms/step - loss: 2.8457 - accuracy: 0.8910 - val_loss: 3.6858 - val_accuracy: 0.8763\n",
            "Epoch 19/50\n",
            "391/391 [==============================] - 1s 2ms/step - loss: 2.7529 - accuracy: 0.8902 - val_loss: 3.6363 - val_accuracy: 0.8757\n",
            "Epoch 20/50\n",
            "391/391 [==============================] - 1s 2ms/step - loss: 2.6645 - accuracy: 0.8919 - val_loss: 3.5196 - val_accuracy: 0.8772\n",
            "Epoch 21/50\n",
            "391/391 [==============================] - 1s 2ms/step - loss: 2.5699 - accuracy: 0.8922 - val_loss: 3.5385 - val_accuracy: 0.8760\n",
            "Epoch 22/50\n",
            "391/391 [==============================] - 1s 2ms/step - loss: 2.4919 - accuracy: 0.8933 - val_loss: 3.3433 - val_accuracy: 0.8767\n",
            "Epoch 23/50\n",
            "391/391 [==============================] - 1s 2ms/step - loss: 2.4097 - accuracy: 0.8946 - val_loss: 3.2515 - val_accuracy: 0.8784\n",
            "Epoch 24/50\n",
            "391/391 [==============================] - 1s 2ms/step - loss: 2.3406 - accuracy: 0.8944 - val_loss: 3.1553 - val_accuracy: 0.8791\n",
            "Epoch 25/50\n",
            "391/391 [==============================] - 1s 2ms/step - loss: 2.2778 - accuracy: 0.8939 - val_loss: 3.1837 - val_accuracy: 0.8735\n",
            "Epoch 26/50\n",
            "391/391 [==============================] - 1s 2ms/step - loss: 2.1963 - accuracy: 0.8956 - val_loss: 3.0952 - val_accuracy: 0.8782\n",
            "Epoch 27/50\n",
            "391/391 [==============================] - 1s 2ms/step - loss: 2.1372 - accuracy: 0.8962 - val_loss: 3.0172 - val_accuracy: 0.8740\n",
            "Epoch 28/50\n",
            "391/391 [==============================] - 1s 2ms/step - loss: 2.0743 - accuracy: 0.8964 - val_loss: 3.0288 - val_accuracy: 0.8700\n",
            "Epoch 29/50\n",
            "391/391 [==============================] - 1s 2ms/step - loss: 2.0291 - accuracy: 0.8971 - val_loss: 2.9255 - val_accuracy: 0.8767\n",
            "Epoch 30/50\n",
            "391/391 [==============================] - 1s 2ms/step - loss: 1.9773 - accuracy: 0.8974 - val_loss: 2.8053 - val_accuracy: 0.8797\n",
            "Epoch 31/50\n",
            "391/391 [==============================] - 1s 2ms/step - loss: 1.9271 - accuracy: 0.8968 - val_loss: 2.7479 - val_accuracy: 0.8790\n",
            "Epoch 32/50\n",
            "391/391 [==============================] - 1s 2ms/step - loss: 1.8721 - accuracy: 0.8986 - val_loss: 2.6526 - val_accuracy: 0.8760\n",
            "Epoch 33/50\n",
            "391/391 [==============================] - 1s 2ms/step - loss: 1.8279 - accuracy: 0.8988 - val_loss: 2.6330 - val_accuracy: 0.8793\n",
            "Epoch 34/50\n",
            "391/391 [==============================] - 1s 2ms/step - loss: 1.7826 - accuracy: 0.8987 - val_loss: 2.6219 - val_accuracy: 0.8777\n",
            "Epoch 35/50\n",
            "391/391 [==============================] - 1s 2ms/step - loss: 1.7326 - accuracy: 0.8988 - val_loss: 2.5502 - val_accuracy: 0.8789\n",
            "Epoch 36/50\n",
            "391/391 [==============================] - 1s 2ms/step - loss: 1.6996 - accuracy: 0.9005 - val_loss: 2.4967 - val_accuracy: 0.8772\n",
            "Epoch 37/50\n",
            "391/391 [==============================] - 1s 2ms/step - loss: 1.6608 - accuracy: 0.8992 - val_loss: 2.4306 - val_accuracy: 0.8789\n",
            "Epoch 38/50\n",
            "391/391 [==============================] - 1s 2ms/step - loss: 1.6236 - accuracy: 0.9009 - val_loss: 2.4984 - val_accuracy: 0.8758\n",
            "Epoch 39/50\n",
            "391/391 [==============================] - 1s 2ms/step - loss: 1.5929 - accuracy: 0.9009 - val_loss: 2.3831 - val_accuracy: 0.8768\n",
            "Epoch 40/50\n",
            "391/391 [==============================] - 1s 2ms/step - loss: 1.5617 - accuracy: 0.9007 - val_loss: 2.3672 - val_accuracy: 0.8760\n",
            "Epoch 41/50\n",
            "391/391 [==============================] - 1s 2ms/step - loss: 1.5267 - accuracy: 0.9014 - val_loss: 2.3229 - val_accuracy: 0.8785\n",
            "Epoch 42/50\n",
            "391/391 [==============================] - 1s 2ms/step - loss: 1.4926 - accuracy: 0.9014 - val_loss: 2.2556 - val_accuracy: 0.8812\n",
            "Epoch 43/50\n",
            "391/391 [==============================] - 1s 2ms/step - loss: 1.4624 - accuracy: 0.9019 - val_loss: 2.2254 - val_accuracy: 0.8794\n",
            "Epoch 44/50\n",
            "391/391 [==============================] - 1s 2ms/step - loss: 1.4359 - accuracy: 0.9027 - val_loss: 2.2281 - val_accuracy: 0.8771\n",
            "Epoch 45/50\n",
            "391/391 [==============================] - 1s 2ms/step - loss: 1.4089 - accuracy: 0.9017 - val_loss: 2.1684 - val_accuracy: 0.8778\n",
            "Epoch 46/50\n",
            "391/391 [==============================] - 1s 2ms/step - loss: 1.3807 - accuracy: 0.9027 - val_loss: 2.0967 - val_accuracy: 0.8814\n",
            "Epoch 47/50\n",
            "391/391 [==============================] - 1s 2ms/step - loss: 1.3539 - accuracy: 0.9030 - val_loss: 2.1067 - val_accuracy: 0.8803\n",
            "Epoch 48/50\n",
            "391/391 [==============================] - 1s 2ms/step - loss: 1.3271 - accuracy: 0.9040 - val_loss: 2.1215 - val_accuracy: 0.8769\n",
            "Epoch 49/50\n",
            "391/391 [==============================] - 1s 2ms/step - loss: 1.3046 - accuracy: 0.9038 - val_loss: 2.0411 - val_accuracy: 0.8811\n",
            "Epoch 50/50\n",
            "391/391 [==============================] - 1s 2ms/step - loss: 1.2882 - accuracy: 0.9038 - val_loss: 2.0223 - val_accuracy: 0.8782\n"
          ],
          "name": "stdout"
        }
      ]
    },
    {
      "cell_type": "code",
      "metadata": {
        "id": "xAU70Lbxpgif",
        "colab_type": "code",
        "colab": {
          "base_uri": "https://localhost:8080/",
          "height": 279
        },
        "outputId": "3e3ed440-abf5-4077-abe7-62cef317847e"
      },
      "source": [
        "epochs = range(50)\n",
        "\n",
        "train_acc = history.history['accuracy']\n",
        "valid_acc = history.history['val_accuracy']\n",
        "\n",
        "plt.plot(epochs, train_acc, 'b', label='Training accuracy')\n",
        "plt.plot(epochs, valid_acc, 'r', label='Validation accuracy')\n",
        "\n",
        "plt.xlabel('epochs')\n",
        "plt.ylabel('Accuracy')\n",
        "plt.legend()\n",
        "plt.show()"
      ],
      "execution_count": 11,
      "outputs": [
        {
          "output_type": "display_data",
          "data": {
            "image/png": "[encoded data removed]",
            "text/plain": [
              "<Figure size 432x288 with 1 Axes>"
            ]
          },
          "metadata": {
            "tags": [],
            "needs_background": "light"
          }
        }
      ]
    },
    {
      "cell_type": "code",
      "metadata": {
        "id": "YuXFBwlkpgtx",
        "colab_type": "code",
        "colab": {
          "base_uri": "https://localhost:8080/",
          "height": 67
        },
        "outputId": "6ec6191d-27c5-4a5e-c20a-20fd125db3a3"
      },
      "source": [
        "(loss, accuracy) = model.evaluate(x_test_vec, y_test_vec)\n",
        "\n",
        "print('loss {}: '.format(loss))\n",
        "print('accuracy {}:'.format(accuracy))\n",
        "\n"
      ],
      "execution_count": 13,
      "outputs": [
        {
          "output_type": "stream",
          "text": [
            "313/313 [==============================] - 0s 1ms/step - loss: 1.8210 - accuracy: 0.8907\n",
            "loss 1.820983648300171: \n",
            "accuracy 0.8906999826431274:\n"
          ],
          "name": "stdout"
        }
      ]
    }
  ]
}